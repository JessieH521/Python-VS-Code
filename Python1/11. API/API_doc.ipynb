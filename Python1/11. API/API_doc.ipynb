{
 "cells": [
  {
   "cell_type": "code",
   "execution_count": 1,
   "metadata": {},
   "outputs": [],
   "source": [
    "import requests\n",
    "# 调用一个返回产品信息的 API，可以通过 Python 的 requests 库进行调用"
   ]
  },
  {
   "cell_type": "markdown",
   "metadata": {},
   "source": [
    "## API\n",
    "\n",
    "API 是 Application Programming Interface（应用程序编程接口）的缩写，它是一组定义和协议，用于构建和集成软件应用程序。\n",
    "\n",
    "API 的作用：\n",
    "API 是不同软件系统之间进行通信的桥梁，允许不同的应用程序相互交互、获取数据或执行某些功能，而不需要知道彼此的内部实现细节。\n",
    "API 的作用就像一个中间人，提供了一种标准化的方式，使得一个系统能够调用另一个系统的功能。\n",
    "\n",
    "API 的基本概念：\n",
    "1. 接口（Interface）:\n",
    "API 就像一个接口，定义了一些规则或方法，供外部程序调用。就像家电有按钮一样，用户只需要按下按钮就能操作，而不需要了解内部的工作原理。\n",
    "2. 请求和响应（Request and Response）:\n",
    "API 调用通常通过网络进行。客户端（调用者）发送请求（request），服务器接收请求并返回响应（response）。\n",
    "常见的 API 请求格式有 HTTP 请求，比如 GET、POST 等。\n",
    "3. 数据交换格式:\n",
    "API 通常使用标准化的数据格式进行通信。常见的格式包括：\n",
    "JSON（JavaScript Object Notation）: 易读易写，轻量级的数据交换格式。\n",
    "XML（eXtensible Markup Language）: 可扩展的标记语言，曾经广泛使用，但现在 JSON 更流行。\n",
    "\n",
    "API 的类型：\n",
    "1. Web API:\n",
    "Web API（网络 API）是通过 HTTP 协议在网络上访问的 API。它允许不同的应用程序通过网络交换数据。\n",
    "大多数现代 Web API 是 RESTful API（使用 REST 架构风格）或者 SOAP API。\n",
    "2. RESTful API:\n",
    "REST（Representational State Transfer）是目前最流行的 Web API 设计风格。\n",
    "它基于 HTTP 协议，使用常见的 HTTP 方法（如 GET、POST、PUT、DELETE）来执行操作。\n",
    "GET: 从服务器获取资源。\n",
    "POST: 向服务器发送新数据。\n",
    "PUT: 更新已有的数据。\n",
    "DELETE: 删除服务器上的资源。\n",
    "3. SOAP API:\n",
    "SOAP（Simple Object Access Protocol）是另一种 API 风格，通常用于更复杂的应用程序，尤其是在企业环境中。它基于 XML 进行消息传递。\n",
    "4. Library API:\n",
    "有些 API 是通过编程语言的库或框架提供的，这种 API 允许开发者在本地环境中调用某些功能，比如 Python 的 math 库提供了数学运算的 API。\n",
    "\n",
    "Anatomin av en förfrågan\n",
    "• The endpoint \n",
    "• The method \n",
    "• The headers \n",
    "• The data (or body)\n",
    "\n",
    "HTTP 状态代码/错误消息\n",
    "• 100+ 代表某种形式的信息。\n",
    "• 200+ 表示请求成功。\n",
    "• 300+ 表示请求被重定向到另一个URL。\n",
    "• 400+ 表示源自客户端的错误。\n",
    "• 500+ 表示来自服务器的错误。\n"
   ]
  },
  {
   "cell_type": "markdown",
   "metadata": {},
   "source": [
    "## HTTP Header\n",
    "\n",
    "https://developer.mozilla.org/en-US/docs/Web/HTTP/Headers\n",
    "\n",
    "HTTP 标头（HTTP Header）是附加在 HTTP 请求和响应中的一组键值对，用于传递额外的信息。它们位于请求/响应的头部区域，在主体之前。这些头信息可以描述客户端的能力、服务器的要求、内容类型、安全认证信息等。\n",
    "\n",
    "HTTP 标头可以分为 请求标头 和 响应标头，并且可以包含很多不同类型的信息。下面详细介绍两种类型的标头：\n",
    "1. 请求标头（Request Headers）\n",
    "这是客户端（通常是浏览器或应用程序）向服务器发送的附加信息，服务器根据这些信息来处理请求。\n",
    "\n",
    "常见的请求标头：\n",
    "Host：指定服务器的域名或 IP 地址。例如：\n",
    "Host: www.example.com\n",
    "User-Agent：描述客户端（浏览器、应用等）以及其版本信息。例如：\n",
    "User-Agent: Mozilla/5.0 (Windows NT 10.0; Win64; x64)\n",
    "Accept：告诉服务器客户端希望接受的数据格式（如 HTML、JSON、XML）。例如：\n",
    "Accept: application/json\n",
    "Authorization：用于身份验证，发送认证信息（如 API 密钥或 JWT）。例如：\n",
    "Authorization: Bearer <token>\n",
    "Content-Type：说明请求体的内容类型，特别在 POST 或 PUT 请求中。例如：\n",
    "Content-Type: application/json\n",
    "Cookie：发送存储在客户端上的 cookie 数据。例如：\n",
    "Cookie: sessionId=abc123\n",
    "\n",
    "2. 响应标头（Response Headers）\n",
    "这是服务器返回给客户端的附加信息，用来说明响应内容的状态、格式等信息。\n",
    "\n",
    "常见的响应标头：\n",
    "Content-Type：告知客户端响应的内容类型，如 text/html 或 application/json。例如：\n",
    "Content-Type: application/json\n",
    "Content-Length：描述响应体的字节长度。例如：\n",
    "Content-Length: 348\n",
    "Set-Cookie：服务器指示客户端保存的 Cookie 信息。例如：\n",
    "Set-Cookie: sessionId=abc123; Path=/; HttpOnly\n",
    "Cache-Control：控制客户端缓存响应数据的方式。例如：\n",
    "Cache-Control: no-cache\n",
    "Access-Control-Allow-Origin：定义哪些域可以访问服务器资源，通常用于跨域资源共享（CORS）。例如：\n",
    "Access-Control-Allow-Origin: *\n",
    "WWW-Authenticate：服务器要求客户端提供认证信息。例如：\n",
    "WWW-Authenticate: Basic realm=\"Access to the site\"\n",
    "\n",
    "3. 标头的作用\n",
    "身份验证：通过 Authorization 或 Cookie 标头来验证用户身份。\n",
    "安全性：通过 Strict-Transport-Security 等标头增强安全性，确保数据在 HTTPS 下传输。\n",
    "内容协商：通过 Accept、Content-Type 等标头，客户端和服务器可以商定数据格式。\n",
    "缓存控制：通过 Cache-Control 来控制资源是否缓存以及缓存时长。\n",
    "\n",
    "4. 完整的 HTTP 请求与响应示例\n",
    "\n",
    "HTTP 请求：\n",
    "GET /index.html HTTP/1.1\n",
    "Host: www.example.com\n",
    "User-Agent: Mozilla/5.0 (Windows NT 10.0; Win64; x64)\n",
    "Accept: text/html\n",
    "\n",
    "HTTP 响应：\n",
    "HTTP/1.1 200 OK\n",
    "Date: Mon, 27 Sep 2024 12:28:53 GMT\n",
    "Content-Type: text/html\n",
    "Content-Length: 138\n",
    "Connection: keep-alive\n",
    "\n",
    "5. 自定义标头\n",
    "开发者也可以根据需要定义自定义的 HTTP 标头。例如：\n",
    "X-Custom-Header: mycustomvalue"
   ]
  },
  {
   "cell_type": "markdown",
   "metadata": {},
   "source": [
    "### 1. GET 方法\n",
    "作用: 用于从服务器获取数据。它是只读操作，不会对服务器上的数据进行修改。\n",
    "示例: 获取所有用户信息或获取某个特定的产品信息。"
   ]
  },
  {
   "cell_type": "code",
   "execution_count": 1,
   "metadata": {},
   "outputs": [
    {
     "name": "stdout",
     "output_type": "stream",
     "text": [
      "All products: [{'id': 1, 'title': 'Fjallraven - Foldsack No. 1 Backpack, Fits 15 Laptops', 'price': 109.95, 'description': 'Your perfect pack for everyday use and walks in the forest. Stash your laptop (up to 15 inches) in the padded sleeve, your everyday', 'category': \"men's clothing\", 'image': 'https://fakestoreapi.com/img/81fPKd-2AYL._AC_SL1500_.jpg', 'rating': {'rate': 3.9, 'count': 120}}, {'id': 2, 'title': 'Mens Casual Premium Slim Fit T-Shirts ', 'price': 22.3, 'description': 'Slim-fitting style, contrast raglan long sleeve, three-button henley placket, light weight & soft fabric for breathable and comfortable wearing. And Solid stitched shirts with round neck made for durability and a great fit for casual fashion wear and diehard baseball fans. The Henley style round neckline includes a three-button placket.', 'category': \"men's clothing\", 'image': 'https://fakestoreapi.com/img/71-3HjGNDUL._AC_SY879._SX._UX._SY._UY_.jpg', 'rating': {'rate': 4.1, 'count': 259}}, {'id': 3, 'title': 'Mens Cotton Jacket', 'price': 55.99, 'description': 'great outerwear jackets for Spring/Autumn/Winter, suitable for many occasions, such as working, hiking, camping, mountain/rock climbing, cycling, traveling or other outdoors. Good gift choice for you or your family member. A warm hearted love to Father, husband or son in this thanksgiving or Christmas Day.', 'category': \"men's clothing\", 'image': 'https://fakestoreapi.com/img/71li-ujtlUL._AC_UX679_.jpg', 'rating': {'rate': 4.7, 'count': 500}}, {'id': 4, 'title': 'Mens Casual Slim Fit', 'price': 15.99, 'description': 'The color could be slightly different between on the screen and in practice. / Please note that body builds vary by person, therefore, detailed size information should be reviewed below on the product description.', 'category': \"men's clothing\", 'image': 'https://fakestoreapi.com/img/71YXzeOuslL._AC_UY879_.jpg', 'rating': {'rate': 2.1, 'count': 430}}, {'id': 5, 'title': \"John Hardy Women's Legends Naga Gold & Silver Dragon Station Chain Bracelet\", 'price': 695, 'description': \"From our Legends Collection, the Naga was inspired by the mythical water dragon that protects the ocean's pearl. Wear facing inward to be bestowed with love and abundance, or outward for protection.\", 'category': 'jewelery', 'image': 'https://fakestoreapi.com/img/71pWzhdJNwL._AC_UL640_QL65_ML3_.jpg', 'rating': {'rate': 4.6, 'count': 400}}, {'id': 6, 'title': 'Solid Gold Petite Micropave ', 'price': 168, 'description': 'Satisfaction Guaranteed. Return or exchange any order within 30 days.Designed and sold by Hafeez Center in the United States. Satisfaction Guaranteed. Return or exchange any order within 30 days.', 'category': 'jewelery', 'image': 'https://fakestoreapi.com/img/61sbMiUnoGL._AC_UL640_QL65_ML3_.jpg', 'rating': {'rate': 3.9, 'count': 70}}, {'id': 7, 'title': 'White Gold Plated Princess', 'price': 9.99, 'description': \"Classic Created Wedding Engagement Solitaire Diamond Promise Ring for Her. Gifts to spoil your love more for Engagement, Wedding, Anniversary, Valentine's Day...\", 'category': 'jewelery', 'image': 'https://fakestoreapi.com/img/71YAIFU48IL._AC_UL640_QL65_ML3_.jpg', 'rating': {'rate': 3, 'count': 400}}, {'id': 8, 'title': 'Pierced Owl Rose Gold Plated Stainless Steel Double', 'price': 10.99, 'description': 'Rose Gold Plated Double Flared Tunnel Plug Earrings. Made of 316L Stainless Steel', 'category': 'jewelery', 'image': 'https://fakestoreapi.com/img/51UDEzMJVpL._AC_UL640_QL65_ML3_.jpg', 'rating': {'rate': 1.9, 'count': 100}}, {'id': 9, 'title': 'WD 2TB Elements Portable External Hard Drive - USB 3.0 ', 'price': 64, 'description': 'USB 3.0 and USB 2.0 Compatibility Fast data transfers Improve PC Performance High Capacity; Compatibility Formatted NTFS for Windows 10, Windows 8.1, Windows 7; Reformatting may be required for other operating systems; Compatibility may vary depending on user’s hardware configuration and operating system', 'category': 'electronics', 'image': 'https://fakestoreapi.com/img/61IBBVJvSDL._AC_SY879_.jpg', 'rating': {'rate': 3.3, 'count': 203}}, {'id': 10, 'title': 'SanDisk SSD PLUS 1TB Internal SSD - SATA III 6 Gb/s', 'price': 109, 'description': 'Easy upgrade for faster boot up, shutdown, application load and response (As compared to 5400 RPM SATA 2.5” hard drive; Based on published specifications and internal benchmarking tests using PCMark vantage scores) Boosts burst write performance, making it ideal for typical PC workloads The perfect balance of performance and reliability Read/write speeds of up to 535MB/s/450MB/s (Based on internal testing; Performance may vary depending upon drive capacity, host device, OS and application.)', 'category': 'electronics', 'image': 'https://fakestoreapi.com/img/61U7T1koQqL._AC_SX679_.jpg', 'rating': {'rate': 2.9, 'count': 470}}, {'id': 11, 'title': 'Silicon Power 256GB SSD 3D NAND A55 SLC Cache Performance Boost SATA III 2.5', 'price': 109, 'description': '3D NAND flash are applied to deliver high transfer speeds Remarkable transfer speeds that enable faster bootup and improved overall system performance. The advanced SLC Cache Technology allows performance boost and longer lifespan 7mm slim design suitable for Ultrabooks and Ultra-slim notebooks. Supports TRIM command, Garbage Collection technology, RAID, and ECC (Error Checking & Correction) to provide the optimized performance and enhanced reliability.', 'category': 'electronics', 'image': 'https://fakestoreapi.com/img/71kWymZ+c+L._AC_SX679_.jpg', 'rating': {'rate': 4.8, 'count': 319}}, {'id': 12, 'title': 'WD 4TB Gaming Drive Works with Playstation 4 Portable External Hard Drive', 'price': 114, 'description': \"Expand your PS4 gaming experience, Play anywhere Fast and easy, setup Sleek design with high capacity, 3-year manufacturer's limited warranty\", 'category': 'electronics', 'image': 'https://fakestoreapi.com/img/61mtL65D4cL._AC_SX679_.jpg', 'rating': {'rate': 4.8, 'count': 400}}, {'id': 13, 'title': 'Acer SB220Q bi 21.5 inches Full HD (1920 x 1080) IPS Ultra-Thin', 'price': 599, 'description': '21. 5 inches Full HD (1920 x 1080) widescreen IPS display And Radeon free Sync technology. No compatibility for VESA Mount Refresh Rate: 75Hz - Using HDMI port Zero-frame design | ultra-thin | 4ms response time | IPS panel Aspect ratio - 16: 9. Color Supported - 16. 7 million colors. Brightness - 250 nit Tilt angle -5 degree to 15 degree. Horizontal viewing angle-178 degree. Vertical viewing angle-178 degree 75 hertz', 'category': 'electronics', 'image': 'https://fakestoreapi.com/img/81QpkIctqPL._AC_SX679_.jpg', 'rating': {'rate': 2.9, 'count': 250}}, {'id': 14, 'title': 'Samsung 49-Inch CHG90 144Hz Curved Gaming Monitor (LC49HG90DMNXZA) – Super Ultrawide Screen QLED ', 'price': 999.99, 'description': '49 INCH SUPER ULTRAWIDE 32:9 CURVED GAMING MONITOR with dual 27 inch screen side by side QUANTUM DOT (QLED) TECHNOLOGY, HDR support and factory calibration provides stunningly realistic and accurate color and contrast 144HZ HIGH REFRESH RATE and 1ms ultra fast response time work to eliminate motion blur, ghosting, and reduce input lag', 'category': 'electronics', 'image': 'https://fakestoreapi.com/img/81Zt42ioCgL._AC_SX679_.jpg', 'rating': {'rate': 2.2, 'count': 140}}, {'id': 15, 'title': \"BIYLACLESEN Women's 3-in-1 Snowboard Jacket Winter Coats\", 'price': 56.99, 'description': 'Note:The Jackets is US standard size, Please choose size as your usual wear Material: 100% Polyester; Detachable Liner Fabric: Warm Fleece. Detachable Functional Liner: Skin Friendly, Lightweigt and Warm.Stand Collar Liner jacket, keep you warm in cold weather. Zippered Pockets: 2 Zippered Hand Pockets, 2 Zippered Pockets on Chest (enough to keep cards or keys)and 1 Hidden Pocket Inside.Zippered Hand Pockets and Hidden Pocket keep your things secure. Humanized Design: Adjustable and Detachable Hood and Adjustable cuff to prevent the wind and water,for a comfortable fit. 3 in 1 Detachable Design provide more convenience, you can separate the coat and inner as needed, or wear it together. It is suitable for different season and help you adapt to different climates', 'category': \"women's clothing\", 'image': 'https://fakestoreapi.com/img/51Y5NI-I5jL._AC_UX679_.jpg', 'rating': {'rate': 2.6, 'count': 235}}, {'id': 16, 'title': \"Lock and Love Women's Removable Hooded Faux Leather Moto Biker Jacket\", 'price': 29.95, 'description': '100% POLYURETHANE(shell) 100% POLYESTER(lining) 75% POLYESTER 25% COTTON (SWEATER), Faux leather material for style and comfort / 2 pockets of front, 2-For-One Hooded denim style faux leather jacket, Button detail on waist / Detail stitching at sides, HAND WASH ONLY / DO NOT BLEACH / LINE DRY / DO NOT IRON', 'category': \"women's clothing\", 'image': 'https://fakestoreapi.com/img/81XH0e8fefL._AC_UY879_.jpg', 'rating': {'rate': 2.9, 'count': 340}}, {'id': 17, 'title': 'Rain Jacket Women Windbreaker Striped Climbing Raincoats', 'price': 39.99, 'description': \"Lightweight perfet for trip or casual wear---Long sleeve with hooded, adjustable drawstring waist design. Button and zipper front closure raincoat, fully stripes Lined and The Raincoat has 2 side pockets are a good size to hold all kinds of things, it covers the hips, and the hood is generous but doesn't overdo it.Attached Cotton Lined Hood with Adjustable Drawstrings give it a real styled look.\", 'category': \"women's clothing\", 'image': 'https://fakestoreapi.com/img/71HblAHs5xL._AC_UY879_-2.jpg', 'rating': {'rate': 3.8, 'count': 679}}, {'id': 18, 'title': \"MBJ Women's Solid Short Sleeve Boat Neck V \", 'price': 9.85, 'description': '95% RAYON 5% SPANDEX, Made in USA or Imported, Do Not Bleach, Lightweight fabric with great stretch for comfort, Ribbed on sleeves and neckline / Double stitching on bottom hem', 'category': \"women's clothing\", 'image': 'https://fakestoreapi.com/img/71z3kpMAYsL._AC_UY879_.jpg', 'rating': {'rate': 4.7, 'count': 130}}, {'id': 19, 'title': \"Opna Women's Short Sleeve Moisture\", 'price': 7.95, 'description': '100% Polyester, Machine wash, 100% cationic polyester interlock, Machine Wash & Pre Shrunk for a Great Fit, Lightweight, roomy and highly breathable with moisture wicking fabric which helps to keep moisture away, Soft Lightweight Fabric with comfortable V-neck collar and a slimmer fit, delivers a sleek, more feminine silhouette and Added Comfort', 'category': \"women's clothing\", 'image': 'https://fakestoreapi.com/img/51eg55uWmdL._AC_UX679_.jpg', 'rating': {'rate': 4.5, 'count': 146}}, {'id': 20, 'title': 'DANVOUY Womens T Shirt Casual Cotton Short', 'price': 12.99, 'description': '95%Cotton,5%Spandex, Features: Casual, Short Sleeve, Letter Print,V-Neck,Fashion Tees, The fabric is soft and has some stretch., Occasion: Casual/Office/Beach/School/Home/Street. Season: Spring,Summer,Autumn,Winter.', 'category': \"women's clothing\", 'image': 'https://fakestoreapi.com/img/61pHAEJ4NML._AC_UX679_.jpg', 'rating': {'rate': 3.6, 'count': 145}}]\n"
     ]
    }
   ],
   "source": [
    "import requests\n",
    "\n",
    "# 示例 1: 获取所有产品信息\n",
    "\n",
    "# Get request för att hämta produkterna\n",
    "response = requests.get('https://fakestoreapi.com/products')\n",
    "\n",
    "\n",
    "if response.status_code == 200: \n",
    "    products = response.json()         # Konvertera till JSON\n",
    "    print('All products:', products)   # Visa alla  producter\n",
    "\n",
    "else:\n",
    "    print(f'Error fetching products. Status code:{response.status_code}')"
   ]
  },
  {
   "cell_type": "code",
   "execution_count": 2,
   "metadata": {},
   "outputs": [
    {
     "name": "stdout",
     "output_type": "stream",
     "text": [
      "{'id': 1, 'title': 'Fjallraven - Foldsack No. 1 Backpack, Fits 15 Laptops', 'price': 109.95, 'description': 'Your perfect pack for everyday use and walks in the forest. Stash your laptop (up to 15 inches) in the padded sleeve, your everyday', 'category': \"men's clothing\", 'image': 'https://fakestoreapi.com/img/81fPKd-2AYL._AC_SL1500_.jpg', 'rating': {'rate': 3.9, 'count': 120}}\n"
     ]
    }
   ],
   "source": [
    "# 示例 2: 获取某个产品信息\n",
    "\n",
    "response = requests.get(\"https://fakestoreapi.com/products/1\")\n",
    "\n",
    "if response.status_code == 200:\n",
    "    product = response.json()\n",
    "    print(product)\n"
   ]
  },
  {
   "cell_type": "code",
   "execution_count": 3,
   "metadata": {},
   "outputs": [
    {
     "name": "stdout",
     "output_type": "stream",
     "text": [
      "[{'id': 1, 'name': 'Leanne Graham', 'username': 'Bret', 'email': 'Sincere@april.biz', 'address': {'street': 'Kulas Light', 'suite': 'Apt. 556', 'city': 'Gwenborough', 'zipcode': '92998-3874', 'geo': {'lat': '-37.3159', 'lng': '81.1496'}}, 'phone': '1-770-736-8031 x56442', 'website': 'hildegard.org', 'company': {'name': 'Romaguera-Crona', 'catchPhrase': 'Multi-layered client-server neural-net', 'bs': 'harness real-time e-markets'}}, {'id': 2, 'name': 'Ervin Howell', 'username': 'Antonette', 'email': 'Shanna@melissa.tv', 'address': {'street': 'Victor Plains', 'suite': 'Suite 879', 'city': 'Wisokyburgh', 'zipcode': '90566-7771', 'geo': {'lat': '-43.9509', 'lng': '-34.4618'}}, 'phone': '010-692-6593 x09125', 'website': 'anastasia.net', 'company': {'name': 'Deckow-Crist', 'catchPhrase': 'Proactive didactic contingency', 'bs': 'synergize scalable supply-chains'}}, {'id': 3, 'name': 'Clementine Bauch', 'username': 'Samantha', 'email': 'Nathan@yesenia.net', 'address': {'street': 'Douglas Extension', 'suite': 'Suite 847', 'city': 'McKenziehaven', 'zipcode': '59590-4157', 'geo': {'lat': '-68.6102', 'lng': '-47.0653'}}, 'phone': '1-463-123-4447', 'website': 'ramiro.info', 'company': {'name': 'Romaguera-Jacobson', 'catchPhrase': 'Face to face bifurcated interface', 'bs': 'e-enable strategic applications'}}, {'id': 4, 'name': 'Patricia Lebsack', 'username': 'Karianne', 'email': 'Julianne.OConner@kory.org', 'address': {'street': 'Hoeger Mall', 'suite': 'Apt. 692', 'city': 'South Elvis', 'zipcode': '53919-4257', 'geo': {'lat': '29.4572', 'lng': '-164.2990'}}, 'phone': '493-170-9623 x156', 'website': 'kale.biz', 'company': {'name': 'Robel-Corkery', 'catchPhrase': 'Multi-tiered zero tolerance productivity', 'bs': 'transition cutting-edge web services'}}, {'id': 5, 'name': 'Chelsey Dietrich', 'username': 'Kamren', 'email': 'Lucio_Hettinger@annie.ca', 'address': {'street': 'Skiles Walks', 'suite': 'Suite 351', 'city': 'Roscoeview', 'zipcode': '33263', 'geo': {'lat': '-31.8129', 'lng': '62.5342'}}, 'phone': '(254)954-1289', 'website': 'demarco.info', 'company': {'name': 'Keebler LLC', 'catchPhrase': 'User-centric fault-tolerant solution', 'bs': 'revolutionize end-to-end systems'}}, {'id': 6, 'name': 'Mrs. Dennis Schulist', 'username': 'Leopoldo_Corkery', 'email': 'Karley_Dach@jasper.info', 'address': {'street': 'Norberto Crossing', 'suite': 'Apt. 950', 'city': 'South Christy', 'zipcode': '23505-1337', 'geo': {'lat': '-71.4197', 'lng': '71.7478'}}, 'phone': '1-477-935-8478 x6430', 'website': 'ola.org', 'company': {'name': 'Considine-Lockman', 'catchPhrase': 'Synchronised bottom-line interface', 'bs': 'e-enable innovative applications'}}, {'id': 7, 'name': 'Kurtis Weissnat', 'username': 'Elwyn.Skiles', 'email': 'Telly.Hoeger@billy.biz', 'address': {'street': 'Rex Trail', 'suite': 'Suite 280', 'city': 'Howemouth', 'zipcode': '58804-1099', 'geo': {'lat': '24.8918', 'lng': '21.8984'}}, 'phone': '210.067.6132', 'website': 'elvis.io', 'company': {'name': 'Johns Group', 'catchPhrase': 'Configurable multimedia task-force', 'bs': 'generate enterprise e-tailers'}}, {'id': 8, 'name': 'Nicholas Runolfsdottir V', 'username': 'Maxime_Nienow', 'email': 'Sherwood@rosamond.me', 'address': {'street': 'Ellsworth Summit', 'suite': 'Suite 729', 'city': 'Aliyaview', 'zipcode': '45169', 'geo': {'lat': '-14.3990', 'lng': '-120.7677'}}, 'phone': '586.493.6943 x140', 'website': 'jacynthe.com', 'company': {'name': 'Abernathy Group', 'catchPhrase': 'Implemented secondary concept', 'bs': 'e-enable extensible e-tailers'}}, {'id': 9, 'name': 'Glenna Reichert', 'username': 'Delphine', 'email': 'Chaim_McDermott@dana.io', 'address': {'street': 'Dayna Park', 'suite': 'Suite 449', 'city': 'Bartholomebury', 'zipcode': '76495-3109', 'geo': {'lat': '24.6463', 'lng': '-168.8889'}}, 'phone': '(775)976-6794 x41206', 'website': 'conrad.com', 'company': {'name': 'Yost and Sons', 'catchPhrase': 'Switchable contextually-based project', 'bs': 'aggregate real-time technologies'}}, {'id': 10, 'name': 'Clementina DuBuque', 'username': 'Moriah.Stanton', 'email': 'Rey.Padberg@karina.biz', 'address': {'street': 'Kattie Turnpike', 'suite': 'Suite 198', 'city': 'Lebsackbury', 'zipcode': '31428-2261', 'geo': {'lat': '-38.2386', 'lng': '57.2232'}}, 'phone': '024-648-3804', 'website': 'ambrose.net', 'company': {'name': 'Hoeger LLC', 'catchPhrase': 'Centralized empowering task-force', 'bs': 'target end-to-end models'}}]\n"
     ]
    }
   ],
   "source": [
    "# 示例 3: 获取所有用户\n",
    "\n",
    "# 发出 GET 请求，获取所有用户的信息\n",
    "response = requests.get(\"https://jsonplaceholder.typicode.com/users\")\n",
    "\n",
    "# 如果请求成功，打印数据\n",
    "if response.status_code == 200:\n",
    "    users = response.json()\n",
    "    print(users)\n",
    "else:\n",
    "    print(\"Error fetching data.\")"
   ]
  },
  {
   "cell_type": "markdown",
   "metadata": {},
   "source": [
    "### 2. POST 方法\n",
    "作用: 用于向服务器发送数据并创建新的资源。例如，提交表单或注册用户。"
   ]
  },
  {
   "cell_type": "code",
   "execution_count": 4,
   "metadata": {},
   "outputs": [
    {
     "name": "stdout",
     "output_type": "stream",
     "text": [
      "{'name': 'John Doe', 'email': 'john@example.com', 'phone': '123-456-7890', 'id': 11}\n"
     ]
    }
   ],
   "source": [
    "# 示例: 创建新用户\n",
    "\n",
    "import requests\n",
    "\n",
    "# 定义新用户数据\n",
    "new_user = {\n",
    "    \"name\": \"John Doe\",\n",
    "    \"email\": \"john@example.com\",\n",
    "    \"phone\": \"123-456-7890\"\n",
    "}\n",
    "\n",
    "# 发出 POST 请求，创建新用户\n",
    "response = requests.post(\"https://jsonplaceholder.typicode.com/users\", json=new_user)\n",
    "\n",
    "# 如果请求成功，打印服务器返回的响应\n",
    "if response.status_code == 201:\n",
    "    user = response.json()\n",
    "    print(user)\n",
    "else:\n",
    "    print(\"Error creating user.\")"
   ]
  },
  {
   "cell_type": "code",
   "execution_count": null,
   "metadata": {},
   "outputs": [],
   "source": [
    "# 在 thunder 插件中 左边body 里 可以输入下面代码 然后post进原网站\n",
    "{\n",
    "    \"id\": 30,\n",
    "    \"title\": \"Fjallra\",\n",
    "    \"price\": 105,\n",
    "    \"description\": \"everyday\",\n",
    "    \"category\": \"men's clothing\",\n",
    "    \"image\": \"https://fakestoreapi.com/img/81fPKd-2AYL._AC_SL1500_.jpg\",\n",
    "    \"rating\": {\n",
    "      \"rate\": 3,\n",
    "      \"count\": 20\n",
    "    }\n",
    "  }"
   ]
  },
  {
   "cell_type": "markdown",
   "metadata": {},
   "source": [
    "## 3. PUT 方法\n",
    "作用: 用于更新服务器上的现有资源，通常用来替换整个资源。"
   ]
  },
  {
   "cell_type": "code",
   "execution_count": 5,
   "metadata": {},
   "outputs": [
    {
     "name": "stdout",
     "output_type": "stream",
     "text": [
      "{'name': 'Jane Doe', 'email': 'jane@example.com', 'phone': '987-654-3210', 'id': 1}\n"
     ]
    }
   ],
   "source": [
    "# 示例: 更新用户信息\n",
    "\n",
    "import requests\n",
    "\n",
    "# 定义更新后的用户数据\n",
    "updated_user = {\n",
    "    \"name\": \"Jane Doe\",\n",
    "    \"email\": \"jane@example.com\",\n",
    "    \"phone\": \"987-654-3210\"\n",
    "}\n",
    "\n",
    "# 发出 PUT 请求，更新用户信息\n",
    "response = requests.put(\"https://jsonplaceholder.typicode.com/users/1\", json=updated_user)\n",
    "\n",
    "# 如果请求成功，打印更新后的用户信息\n",
    "if response.status_code == 200:\n",
    "    user = response.json()\n",
    "    print(user)\n",
    "else:\n",
    "    print(\"Error updating user.\")"
   ]
  },
  {
   "cell_type": "markdown",
   "metadata": {},
   "source": [
    "## 4. PATCH 方法\n",
    "作用: 用于部分更新资源，不像 PUT 是替换整个资源，PATCH 只修改指定的字段。"
   ]
  },
  {
   "cell_type": "code",
   "execution_count": 6,
   "metadata": {},
   "outputs": [
    {
     "name": "stdout",
     "output_type": "stream",
     "text": [
      "{'id': 1, 'name': 'Leanne Graham', 'username': 'Bret', 'email': 'updated_email@example.com', 'address': {'street': 'Kulas Light', 'suite': 'Apt. 556', 'city': 'Gwenborough', 'zipcode': '92998-3874', 'geo': {'lat': '-37.3159', 'lng': '81.1496'}}, 'phone': '1-770-736-8031 x56442', 'website': 'hildegard.org', 'company': {'name': 'Romaguera-Crona', 'catchPhrase': 'Multi-layered client-server neural-net', 'bs': 'harness real-time e-markets'}}\n"
     ]
    }
   ],
   "source": [
    "# 示例: 部分更新用户的电子邮件\n",
    "\n",
    "import requests\n",
    "\n",
    "# 定义要更新的部分数据\n",
    "updated_user = {\n",
    "    \"email\": \"updated_email@example.com\"\n",
    "}\n",
    "\n",
    "# 发出 PATCH 请求，部分更新用户信息\n",
    "response = requests.patch(\"https://jsonplaceholder.typicode.com/users/1\", json=updated_user)\n",
    "\n",
    "# 如果请求成功，打印更新后的用户信息\n",
    "if response.status_code == 200:\n",
    "    user = response.json()\n",
    "    print(user)\n",
    "else:\n",
    "    print(\"Error patching user.\")"
   ]
  },
  {
   "cell_type": "markdown",
   "metadata": {},
   "source": [
    "## 5. DELETE 方法\n",
    "作用: 用于删除服务器上的资源。"
   ]
  },
  {
   "cell_type": "code",
   "execution_count": 7,
   "metadata": {},
   "outputs": [
    {
     "name": "stdout",
     "output_type": "stream",
     "text": [
      "User deleted successfully.\n"
     ]
    }
   ],
   "source": [
    "# 示例: 删除用户\n",
    "\n",
    "import requests\n",
    "\n",
    "# 发出 DELETE 请求，删除指定的用户\n",
    "response = requests.delete(\"https://jsonplaceholder.typicode.com/users/1\")\n",
    "\n",
    "# 如果请求成功，打印成功删除的信息\n",
    "if response.status_code == 200:\n",
    "    print(\"User deleted successfully.\")\n",
    "else:\n",
    "    print(\"Error deleting user.\")"
   ]
  },
  {
   "cell_type": "markdown",
   "metadata": {},
   "source": [
    "## Thunder Client\n",
    "\n",
    "Thunder Client 是一个轻量级的 API 测试扩展，专门为 Visual Studio Code (VS Code) 集成开发的。\n",
    "它类似于 Postman 或 Insomnia，但更简洁、轻量，并且直接嵌入在 VS Code 中，方便开发者在编码时就可以测试和管理 API 请求，而不必切换到其他工具。\n",
    "\n",
    "主要特点：\n",
    "集成在 VS Code 中：\n",
    "\n",
    "无需切换应用程序，在 VS Code 环境下就可以直接进行 API 测试。\n",
    "支持多种 HTTP 方法：\n",
    "\n",
    "支持常见的 GET、POST、PUT、DELETE、PATCH 等 HTTP 请求。\n",
    "请求与响应管理：\n",
    "\n",
    "可以发送请求并查看响应数据，包括状态码、头信息、响应体等。\n",
    "支持环境和变量：\n",
    "\n",
    "可以为不同的 API 测试设置多个环境和环境变量，例如开发环境、测试环境、生产环境等。\n",
    "轻量级：\n",
    "\n",
    "相比其他 API 工具，它非常轻巧，不会占用太多资源，更适合在 VS Code 中无缝集成和快速使用。\n",
    "Collection 和历史记录管理：\n",
    "\n",
    "可以创建 Collection 来组织请求，还可以保存历史记录，便于重复使用和管理 API 测试流程。\n",
    "JSON 支持和自动格式化：\n",
    "\n",
    "方便进行 JSON 数据的自动格式化和查看，适合处理 RESTful API。\n",
    "Thunder Client 的用途：\n",
    "测试 API：\n",
    "\n",
    "方便开发者在编码时直接测试 API，而不需要打开其他工具。\n",
    "查看 API 响应：\n",
    "\n",
    "可以轻松查看 API 请求的响应，包括 JSON、XML 等格式。\n",
    "模拟不同环境的 API 请求：\n",
    "\n",
    "适合需要频繁测试不同环境的开发者，比如在开发和生产环境之间切换。\n",
    "如何使用 Thunder Client：\n",
    "安装：直接通过 VS Code 的扩展市场安装 Thunder Client 插件。\n",
    "发送请求：安装后，可以在 VS Code 的侧边栏打开 Thunder Client，创建新的请求，设置 URL 和请求类型，然后点击发送。\n",
    "查看响应：发送请求后，响应会显示在下方，包含响应数据、状态码和响应时间等。\n",
    "Thunder Client 非常适合那些希望在 VS Code 中快速测试 API 的开发人员。如果你在使用 Visual Studio Code，并且希望有一个轻量级的 API 测试工具，Thunder Client 是一个很好的选择。\n",
    "\n",
    "\n",
    "### C.R.U.D. 是 Create（创建）、Read（读取）、Update（更新）、Delete（删除）\n"
   ]
  },
  {
   "cell_type": "markdown",
   "metadata": {},
   "source": [
    "## Thunder Client 使用方法\n",
    "\n",
    "1. 安装 Thunder Client\n",
    "步骤：\n",
    "打开 Visual Studio Code。\n",
    "在 VS Code 的侧边栏找到 Extensions（扩展） 图标，点击打开。\n",
    "在搜索框中输入 \"Thunder Client\"。\n",
    "找到 Thunder Client 插件并点击 Install（安装）。\n",
    "2. 打开 Thunder Client\n",
    "步骤：\n",
    "安装完成后，在 VS Code 的侧边栏会出现一个 Thunder Client 的图标（一个小闪电符号）。\n",
    "点击该图标，进入 Thunder Client 的主界面。\n",
    "3. 发送 API 请求\n",
    "创建请求：\n",
    "\n",
    "点击 New Request（新请求） 按钮。\n",
    "选择请求类型（如 GET、POST、PUT、DELETE 等）。\n",
    "在输入框中输入 API 的 URL（例如 https://jsonplaceholder.typicode.com/posts）。\n",
    "如果是 POST 或 PUT 请求，还可以点击 Body 选项卡输入 JSON 或其他数据。\n",
    "设置请求头：\n",
    "\n",
    "点击 Headers（请求头） 标签。\n",
    "输入需要的请求头字段（例如 Content-Type: application/json）。\n",
    "发送请求：\n",
    "\n",
    "完成所有设置后，点击页面上的 Send（发送） 按钮。\n",
    "请求发送后，响应会显示在页面的下方。\n",
    "4. 查看响应\n",
    "响应信息：\n",
    "发送请求后，Thunder Client 会展示响应的详细信息，包括：\n",
    "状态码（例如 200 OK）\n",
    "响应时间\n",
    "响应体内容（JSON、XML 等）\n",
    "响应头部信息\n",
    "格式化响应：\n",
    "JSON 响应会自动进行格式化，便于阅读。\n",
    "5. 保存请求\n",
    "步骤：\n",
    "如果你需要频繁发送某些请求，Thunder Client 允许你保存这些请求。\n",
    "点击 Save Request（保存请求） 按钮，输入请求的名称和其他说明信息。\n",
    "请求会被保存到 Collections（集合），便于管理和后续调用。\n",
    "6. 创建 Collection（集合）\n",
    "步骤：\n",
    "在主界面点击 New Collection（新集合）。\n",
    "输入集合的名称，然后点击 Create（创建）。\n",
    "在新建请求时，你可以将请求保存到特定集合中，方便组织和管理多个请求。\n",
    "7. 使用环境变量\n",
    "步骤：\n",
    "Thunder Client 支持环境变量的使用。你可以为不同的环境（如开发、测试、生产）设置不同的变量。\n",
    "点击 Env 选项卡，创建新的环境，并定义不同的环境变量。\n",
    "在请求 URL 或请求体中使用环境变量，例如 {{baseUrl}}/posts。\n",
    "8. 其他功能\n",
    "导出和导入：\n",
    "你可以将请求或集合导出为 JSON 文件，分享给其他人，或者导入之前保存的集合。\n",
    "历史记录：\n",
    "Thunder Client 会保存最近发送过的请求，可以从历史记录中快速找到和重新发送。\n",
    "例子：发送 GET 请求\n",
    "创建请求：点击 New Request。\n",
    "选择类型：选择 GET。\n",
    "输入 URL：输入 https://jsonplaceholder.typicode.com/posts。\n",
    "发送请求：点击 Send。\n",
    "查看响应：在下方查看返回的 JSON 数据。\n",
    "例子：发送 POST 请求\n",
    "创建请求：点击 New Request。\n",
    "选择类型：选择 POST。\n",
    "输入 URL：输入 https://jsonplaceholder.typicode.com/posts。\n",
    "设置 Body：\n",
    "点击 Body，选择 JSON。\n",
    "输入：\n",
    "{\n",
    "  \"title\": \"foo\",\n",
    "  \"body\": \"bar\",\n",
    "  \"userId\": 1\n",
    "}\n",
    "发送请求：点击 Send。\n",
    "查看响应：在下方查看响应，通常会返回创建的资源以及状态码 201 Created。\n",
    "总结\n",
    "Thunder Client 是一个非常便捷的 API 测试工具，完全集成在 VS Code 中，适合那些需要快速测试 API 而不想离开编辑器的开发者使用。"
   ]
  }
 ],
 "metadata": {
  "kernelspec": {
   "display_name": "base",
   "language": "python",
   "name": "python3"
  },
  "language_info": {
   "codemirror_mode": {
    "name": "ipython",
    "version": 3
   },
   "file_extension": ".py",
   "mimetype": "text/x-python",
   "name": "python",
   "nbconvert_exporter": "python",
   "pygments_lexer": "ipython3",
   "version": "3.11.5"
  }
 },
 "nbformat": 4,
 "nbformat_minor": 2
}
